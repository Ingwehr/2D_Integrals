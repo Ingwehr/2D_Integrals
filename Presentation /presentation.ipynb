{
 "cells": [
  {
   "cell_type": "code",
   "execution_count": null,
   "metadata": {},
   "outputs": [],
   "source": [
    "# 2D Integration using a simplified Finite Element Method\n",
    "\n",
    "## Theory \n",
    "\n",
    "The aim of this task is to integrate a function within a given triangulated area. \n",
    "\n",
    "### Refresher: 1 Dimensional Integration"
   ]
  },
  {
   "cell_type": "code",
   "execution_count": null,
   "metadata": {},
   "outputs": [],
   "source": [
    "import numpy as np\n",
    "import matplotlib.pyplot as plt\n",
    "import matplotlib.patches as ptc\n",
    "from matplotlib import cm"
   ]
  },
  {
   "cell_type": "code",
   "execution_count": null,
   "metadata": {},
   "outputs": [],
   "source": [
    "#i have no idea how subplots work\n",
    "f = lambda x: x*x\n",
    "\n",
    "x = np.linspace(-10,10)\n",
    "for i in range(-10,10,1): \n",
    "    rect = ptc.Rectangle((i,0), 1, (f(i)+f(i+1))/2, linewidth=1, edgecolor='gray', facecolor='none')\n",
    "    plt.gca().add_patch(rect)\n",
    "plt.plot(x,f(x),c='r',label='f(x)=x^2')\n",
    "plt.ylim(0,110)\n",
    "plt.xlim(-10,10)\n",
    "plt.legend()\n",
    "plt.show()"
   ]
  },
  {
   "cell_type": "markdown",
   "metadata": {},
   "source": [
    "### How will 2 dimensional integration work then? "
   ]
  },
  {
   "cell_type": "code",
   "execution_count": null,
   "metadata": {},
   "outputs": [],
   "source": [
    "with open(r\"C:\\Users\\backl\\OneDrive\\Desktop\\dolphinCoords.txt\", 'r') as f: \n",
    "    x,y,z = f.readlines()\n",
    "    x,y,z = x.split(','),y.split(','),z.split(',')\n",
    "    x,y,z = [float(i) for i in x],[float(i) for i in y],[float(i) for i in z]\n",
    "\n",
    "fig, ax = plt.subplots(subplot_kw={\"projection\": \"3d\"},figsize=(7,7))\n",
    "\n",
    "surf = ax.plot_trisurf(x, y, z, cmap=cm.coolwarm, linewidth=0, antialiased=False)\n",
    "\n",
    "fig.colorbar(surf, shrink=0.5, aspect=5)\n",
    "plt.xlabel('x')\n",
    "plt.ylabel('y')\n",
    "plt.show()"
   ]
  },
  {
   "cell_type": "markdown",
   "metadata": {},
   "source": [
    "#### How did we arrive at that expression? \n",
    "\n",
    "We want to compute the area $I_\\Omega = \\int f(x,y)dxdy$ where $\\Omega \\in \\mathbb{R}^2$\n",
    "\n",
    "For this purpose the area we want to integrate is divided into triangles, $T_i$. \n",
    "\n",
    "The unit triangle can be approximated as follows: \n",
    "\n",
    "$$\n",
    "\\int_{T_{u}} f(x,y)dxdy \\approx \\frac{1}{2} \\left( \\frac{f(0,0)+f(1,0)+f(0,1)}{3}\\right)\n",
    "$$\n",
    "\n",
    "\n",
    "\n",
    "But how do we transform a triangle $T_i$ to the unit triangle $T_u$? \n",
    "\n",
    "$$\n",
    "\\int_{T_i} f(x,y)dxdy = |J|\\int_{T_u}f(x(\\xi,\\eta),y(\\xi,\\eta))dxdy\n",
    "$$\n",
    "\n",
    "$$\n",
    "x(\\xi,\\eta) = x_1 + (x_2-x_1)\\xi + (x_3-x_1)\\eta \\newline\n",
    "y(\\xi,\\eta) = y_1 + (y_2-y_1)\\xi + (y_3-y_1)\\eta\n",
    "$$\n"
   ]
  },
  {
   "cell_type": "markdown",
   "metadata": {},
   "source": [
    "Thus\n",
    "\n",
    "$$\n",
    "\\int_{T_{i}} f(x,y)dxdy \\approx |J|\\frac{1}{2} \\left( \\frac{f(0,0)+f(1,0)+f(0,1)}{3}\\right)=|J|\\frac{1}{2} \\left( \\frac{f(x_1,y_1)+f(x_2,y_2)+f(x_3,y_3)}{3}\\right)\n",
    "$$\n",
    "\n",
    "and from this we can sum all the triangles and get the volume of the integrated function within the triangulated area. "
   ]
  },
  {
   "cell_type": "code",
   "execution_count": null,
   "metadata": {},
   "outputs": [],
   "source": [
    "#read the coordinates from file -> list of coordinate pairs on the form (point,point)\n",
    "def ReadCoordFile(path: str) -> list: \n",
    "    #read file \n",
    "    with open(path,'r') as f: \n",
    "        x,y = f.readlines()\n",
    "        x,y = x.split(),y.split()\n",
    "\n",
    "    coordinates = []\n",
    "    #add coordinate pairs\n",
    "    for ind,_ in enumerate(x): \n",
    "        coordinates.append((float(x[ind]),float(y[ind])))\n",
    "    #-> list of coordinate pairs\n",
    "    return coordinates\n",
    "\n",
    "#read node triplets from file -> list of triangle objects \n",
    "def ReadNodeFile(path: str, coordinates: list, func) -> list:\n",
    "    with open(path, 'r') as f: \n",
    "        \n",
    "        p1,p2,p3 = f.readlines()\n",
    "        p1,p2,p3 = p1.split(),p2.split(),p3.split()\n",
    "\n",
    "    triangles = []\n",
    "    #the class triangle takes three coordinate pairs and the function\n",
    "    for ind,_ in enumerate(p1): \n",
    "        triangles.append(Triangle(\n",
    "            coordinates[int(float(p1[ind])) - 1],\n",
    "            coordinates[int(float(p2[ind])) - 1],\n",
    "            coordinates[int(float(p3[ind])) - 1],\n",
    "            func))\n",
    "    #-> list of triangle objects\n",
    "    return triangles"
   ]
  },
  {
   "cell_type": "code",
   "execution_count": null,
   "metadata": {},
   "outputs": [],
   "source": [
    "#the triangle class\n",
    "class Triangle: \n",
    "    #initialization\n",
    "    def __init__(self, corner1: point, corner2: point, corner3: point, func): \n",
    "        self.corner1 = corner1\n",
    "        self.corner2 = corner2\n",
    "        self.corner3 = corner3\n",
    "\n",
    "        self.func = func\n",
    "\n",
    "        if self.TooSmallAngle(): \n",
    "            raise Exception('Angle in triangle too small')\n",
    "    #jacobian determinant \n",
    "    def JacobianDeterminant(self) -> float: \n",
    "        return abs(la.det(np.array([[self.corner2[0] - self.corner1[0], self.corner3[0] - self.corner1[0]],\n",
    "                                    [self.corner2[1] - self.corner1[1], self.corner3[1] - self.corner1[1]]])))\n",
    "\n",
    "    def TooSmallAngle(self) -> bool: \n",
    "        return False\n",
    "    #implementation of the formula provided\n",
    "    def VolumeOfPrism(self) -> float: \n",
    "        return self.JacobianDeterminant() * (1/6) * (self.func(*self.corner1) + self.func(*self.corner2) + self.func(*self.corner3)) \n",
    "    #for summation in the mesh class\n",
    "    def __add__(self, other) -> float: \n",
    "        return self.VolumeOfPrism() + other\n",
    "\n",
    "    def __radd__(self, other) -> float: \n",
    "        return self.VolumeOfPrism() + other\n",
    "\n"
   ]
  },
  {
   "cell_type": "code",
   "execution_count": null,
   "metadata": {},
   "outputs": [],
   "source": [
    "#mesh class \n",
    "\n",
    "class Mesh: \n",
    "    #initialized with the paths to coords and nodes who are used to immediately read the files\n",
    "    def __init__(self, nodePath: str, coordPath: str, func) -> None:\n",
    "        self.func = func\n",
    "        self.points = ReadCoordFile(coordPath)\n",
    "        self.triangles = ReadNodeFile(nodePath,self.points,self.func)\n",
    "        \n",
    "    #since Triangle instances can both add and radd it is only a matter of summing the instances get total surface \n",
    "    def TotalTriangleArea(self) -> float:\n",
    "        return sum(self.triangles)"
   ]
  },
  {
   "cell_type": "code",
   "execution_count": null,
   "metadata": {},
   "outputs": [],
   "source": [
    "#main \n",
    "def main() -> None:  \n",
    "    #function that is integrated\n",
    "    f = lambda x, y : 1\n",
    "    #mesh instance\n",
    "    mesh = Mesh('meshes/nodes_unitcircle_10000.txt', 'meshes/coordinates_unitcircle_10000.txt', f)\n",
    "    #print surface of triangles\n",
    "    print(mesh.TotalTriangleArea())"
   ]
  }
 ],
 "metadata": {
  "language_info": {
   "name": "python"
  }
 },
 "nbformat": 4,
 "nbformat_minor": 2
}
